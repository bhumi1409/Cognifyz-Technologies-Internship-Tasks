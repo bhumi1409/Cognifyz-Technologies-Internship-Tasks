{
 "cells": [
  {
   "cell_type": "markdown",
   "id": "95447924",
   "metadata": {},
   "source": [
    "#  INTERNSHIP PROJECT - COGNIFYZ TECHNOLOGIES <hr>\n",
    "# RESTAURANTS ANALYSIS<hr>\n",
    "# LEVEL- 2\n"
   ]
  },
  {
   "cell_type": "markdown",
   "id": "484308c4",
   "metadata": {},
   "source": [
    "# Task-1  Restaurant Reviews"
   ]
  },
  {
   "cell_type": "markdown",
   "id": "9bf9b5a7",
   "metadata": {},
   "source": [
    "\n",
    "# <hr>Problem Statement : \n",
    "\n",
    "## Objective: \n",
    "## 1. Analyze the distribution of aggregate ratings and determine the most common rating range. \n",
    "## 2. Calculate the average number of votes received by restaurants.\n",
    "\n",
    "## Overview\n",
    "### The task is to analyze the restaurant ratings dataset to gain insights into the distribution of aggregate ratings and the engagement level of customers based on the number of votes received by restaurants. <hr>"
   ]
  },
  {
   "cell_type": "markdown",
   "id": "a534ed99",
   "metadata": {},
   "source": [
    "# IMPORT LIBRARIES"
   ]
  },
  {
   "cell_type": "code",
   "execution_count": null,
   "id": "c07a620a",
   "metadata": {},
   "outputs": [],
   "source": [
    "import numpy as np\n",
    "import pandas as pd\n",
    "import matplotlib.pyplot as plt\n",
    "import seaborn as sns"
   ]
  },
  {
   "cell_type": "markdown",
   "id": "6384c143",
   "metadata": {},
   "source": [
    "# LOAD DATASET"
   ]
  },
  {
   "cell_type": "code",
   "execution_count": null,
   "id": "8b969342",
   "metadata": {},
   "outputs": [],
   "source": [
    "df=pd.read_csv('Restaurent_data.csv')\n",
    "df"
   ]
  },
  {
   "cell_type": "markdown",
   "id": "d3f5d697",
   "metadata": {},
   "source": [
    "# Handling Dataset"
   ]
  },
  {
   "cell_type": "code",
   "execution_count": null,
   "id": "498d0b8c",
   "metadata": {},
   "outputs": [],
   "source": [
    "df.dropna(subset=['Aggregate rating', 'Votes'], inplace=True)\n",
    "df = df.dropna(subset=['Cuisines'])"
   ]
  },
  {
   "cell_type": "markdown",
   "id": "39c03113",
   "metadata": {},
   "source": [
    "# SOLVE PROBLEM-1"
   ]
  },
  {
   "cell_type": "code",
   "execution_count": null,
   "id": "ec53417e",
   "metadata": {},
   "outputs": [],
   "source": [
    "# Distribution of Aggregate Ratings\n",
    "plt.figure(figsize=(10, 6))\n",
    "sns.histplot(df['Aggregate rating'], bins=20, kde=False, color='lightgreen')\n",
    "plt.title('Rating Distribution')\n",
    "plt.xlabel('Aggregate Rating')\n",
    "plt.ylabel('Number of Restaurants')\n",
    "plt.show()"
   ]
  },
  {
   "cell_type": "code",
   "execution_count": null,
   "id": "d3eff170",
   "metadata": {},
   "outputs": [],
   "source": [
    "# Most common rating range\n",
    "common_range = df['Aggregate rating'].mode()[0]\n",
    "print(\"Most common rating range:\",common_range)"
   ]
  },
  {
   "cell_type": "code",
   "execution_count": null,
   "id": "98a831c9",
   "metadata": {},
   "outputs": [],
   "source": [
    "plt.figure(figsize=(10, 6))\n",
    "sns.histplot(df['Aggregate rating'], bins=20, kde=False, color='darkgreen')\n",
    "plt.title('Rating Distribution')\n",
    "plt.xlabel('Aggregate Rating')\n",
    "plt.ylabel('Number of Restaurants')\n",
    "plt.axvline(x=common_range, color='red', linestyle='', label=f'Most Common Rating Range: {common_range}')\n",
    "plt.legend()\n",
    "plt.show()"
   ]
  },
  {
   "cell_type": "markdown",
   "id": "25e32a03",
   "metadata": {},
   "source": [
    "# Solve Problem -2"
   ]
  },
  {
   "cell_type": "code",
   "execution_count": null,
   "id": "e12e1b9e",
   "metadata": {},
   "outputs": [],
   "source": [
    "# Average Number of Votes Calculation\n",
    "average_votes = df['Votes'].mean()\n",
    "print(\"Average number of votes received by restaurants: {:.2f}\".format(average_votes))"
   ]
  },
  {
   "cell_type": "markdown",
   "id": "c7e0f113",
   "metadata": {},
   "source": [
    "# Findings and Insights<hr>\n",
    "## 1. Distribution of Ratings:\n",
    "### The most common rating range was identified, indicating the general level of customer satisfaction with the restaurants.<br>\n",
    "\n",
    "## 2.Average Number of Votes:\n",
    "### The average number of votes received by restaurants was calculated, providing insight into the engagement and popularity of the restaurants among customers.<hr>"
   ]
  },
  {
   "cell_type": "markdown",
   "id": "83d74282",
   "metadata": {},
   "source": [
    "# Task-2  Cuisine Combination<hr>"
   ]
  },
  {
   "cell_type": "markdown",
   "id": "de6c423f",
   "metadata": {},
   "source": [
    "# <hr>Problem Statement : \n",
    "\n",
    "## Objective: \n",
    "## 1. Identify the most common combinations of cuisines in the dataset.\n",
    "## 2. Determine if certain cuisine combinations tend to have higher ratings.<hr>\n",
    "\n",
    "## Overview\n",
    "### The task is to analyze the restaurant ratings dataset to gain insights into the distribution of aggregate ratings and the engagement level of customers based on the number of votes received by restaurants. <hr>"
   ]
  },
  {
   "cell_type": "markdown",
   "id": "353f51fa",
   "metadata": {},
   "source": [
    "# Solve Problem -1"
   ]
  },
  {
   "cell_type": "code",
   "execution_count": null,
   "id": "df708117",
   "metadata": {},
   "outputs": [],
   "source": [
    "# Split the cominations into string lists and create combinations for each restaurant\n",
    "cuisine_combinations = df['Cuisines'].astype(str).str.split(', ').apply(sorted).apply(', '.join)"
   ]
  },
  {
   "cell_type": "code",
   "execution_count": null,
   "id": "f649f074",
   "metadata": {},
   "outputs": [],
   "source": [
    "# find the commom cuisines combinations\n",
    "common_combinations = cuisine_combinations.value_counts().head(10)\n",
    "print(\"Most Common Cuisine Combinations:\\n\",common_combinations)"
   ]
  },
  {
   "cell_type": "markdown",
   "id": "46eb5a4b",
   "metadata": {},
   "source": [
    "# Data Visualization- PROBLEM-2"
   ]
  },
  {
   "cell_type": "code",
   "execution_count": null,
   "id": "10502e2b",
   "metadata": {},
   "outputs": [],
   "source": [
    "#visualize most common cuisines\n",
    "plt.figure(figsize=(10, 6))\n",
    "plt.barh(common_combinations.index, common_combinations.values, color='skyblue')\n",
    "plt.xlabel('Number of Restaurants')\n",
    "plt.ylabel('Cuisine Combination')\n",
    "plt.title('Top 5 Most Common Cuisine Combinations')\n",
    "plt.gca().invert_yaxis()  # Invert y-axis to show the most common combination at the top\n",
    "plt.show()"
   ]
  },
  {
   "cell_type": "markdown",
   "id": "6cd73b33",
   "metadata": {},
   "source": [
    "# Solve Problem-2"
   ]
  },
  {
   "cell_type": "code",
   "execution_count": null,
   "id": "cb836078",
   "metadata": {},
   "outputs": [],
   "source": [
    "# Calculate the average rating for each cuisine combination\n",
    "average_ratings_by_combination = df.groupby(cuisine_combinations)['Aggregate rating'].mean()\n",
    "print(\"\\nAverage Ratings by Cuisine Combination:\")\n",
    "print(average_ratings_by_combination)"
   ]
  },
  {
   "cell_type": "markdown",
   "id": "bf8958ce",
   "metadata": {},
   "source": [
    "# Data Visualization PROBLEM-2<hr>"
   ]
  },
  {
   "cell_type": "code",
   "execution_count": null,
   "id": "09d2d538",
   "metadata": {},
   "outputs": [],
   "source": [
    "plt.subplot(1, 2, 2)\n",
    "plt.barh(avg_rating_combinations.index, avg_rating_combinations.values, color='pink')\n",
    "plt.xlabel('Average Rating')\n",
    "plt.title('Average Rating for Top 5 Cuisine Combinations')\n",
    "plt.gca().invert_yaxis()  # Ensure the order matches the first plot\n",
    "plt.show()"
   ]
  },
  {
   "cell_type": "markdown",
   "id": "5a8a9415",
   "metadata": {},
   "source": [
    "# Findings and Insights\n",
    "## 1. The most common cuisine combinations are visualized, providing insights into popular pairings.\n",
    "## 2. The average ratings for different cuisine combinations reveal customer preferences and the quality of these combinations.\n",
    "## 3. The scatter plot helps identify if certain cuisine combinations tend to have higher ratings, aiding in understanding customer satisfaction trends."
   ]
  },
  {
   "cell_type": "markdown",
   "id": "46e74b24",
   "metadata": {},
   "source": [
    "# Task-3  Geographic Analysis\n",
    "<hr>"
   ]
  },
  {
   "cell_type": "markdown",
   "id": "2c73bf93",
   "metadata": {},
   "source": [
    "# <hr>Problem Statement : \n",
    "\n",
    "## Objective: \n",
    "## 1. Plot the locations of restaurants on a map using longitude and latitude coordinates.\n",
    "## 2. Identify any patterns or clusters of restaurants in specific areas\n",
    "\n",
    "## Overview\n",
    "### The goal of this task is to visualize the distribution of restaurants based on their geographical coordinates (longitude and latitude). By plotting the locations on a map, we aim to identify patterns or clusters where restaurants are concentrated. <hr>"
   ]
  },
  {
   "cell_type": "code",
   "execution_count": null,
   "id": "8006ed01",
   "metadata": {},
   "outputs": [],
   "source": [
    "pip install folium"
   ]
  },
  {
   "cell_type": "code",
   "execution_count": null,
   "id": "b5c3183d",
   "metadata": {},
   "outputs": [],
   "source": [
    "import folium\n",
    "from folium.plugins import MarkerCluster"
   ]
  },
  {
   "cell_type": "markdown",
   "id": "0c666b5d",
   "metadata": {},
   "source": [
    "# Solve Problem -1 (Plot location of Restaurant)"
   ]
  },
  {
   "cell_type": "code",
   "execution_count": null,
   "id": "34b541ba",
   "metadata": {},
   "outputs": [],
   "source": [
    "# Initialize the map centered around the mean coordinates\n",
    "map_center = [df['Latitude'].mean(), df['Longitude'].mean()]\n",
    "map = folium.Map(location=map_center, zoom_start=12)"
   ]
  },
  {
   "cell_type": "code",
   "execution_count": null,
   "id": "d3e39a39",
   "metadata": {},
   "outputs": [],
   "source": [
    "# Add a marker cluster to layer\n",
    "marker_cluster = MarkerCluster().add_to(map)\n",
    "\n",
    "# Add marker to the map\n",
    "for idx, row in df.iterrows():\n",
    "    folium.Marker(\n",
    "        location=[row['Latitude'], row['Longitude']],\n",
    "        popup=f\"Restaurant: {row['Restaurant Name']}\",  \n",
    "        icon=folium.Icon(color='blue', icon='info-sign')\n",
    "    ).add_to(marker_cluster)\n",
    "    \n",
    "map   "
   ]
  },
  {
   "cell_type": "markdown",
   "id": "8b76089f",
   "metadata": {},
   "source": [
    "# Solve Problem -2"
   ]
  },
  {
   "cell_type": "code",
   "execution_count": null,
   "id": "dc5b6cd2",
   "metadata": {},
   "outputs": [],
   "source": [
    "from scipy.cluster.hierarchy import dendrogram, linkage, fcluster\n",
    "from sklearn.preprocessing import StandardScaler"
   ]
  },
  {
   "cell_type": "code",
   "execution_count": null,
   "id": "3b5f76cb",
   "metadata": {},
   "outputs": [],
   "source": [
    "coordinates = df[['Longitude', 'Latitude']].values\n",
    "\n",
    "# Standardize coordinates\n",
    "scaler = StandardScaler()\n",
    "scaled = scaler.fit_transform(coordinates)"
   ]
  },
  {
   "cell_type": "code",
   "execution_count": null,
   "id": "bd3d0360",
   "metadata": {},
   "outputs": [],
   "source": [
    "# Perform hierarchical clustering\n",
    "Z = linkage(scaled_coords, method='ward')\n",
    "\n",
    "# Define number of clusters\n",
    "n = 5  # You can adjust the number of clusters\n",
    "\n",
    "# Assign clusters\n",
    "df['Cluster'] = fcluster(Z, n, criterion='maxclust')"
   ]
  },
  {
   "cell_type": "code",
   "execution_count": null,
   "id": "2863ac0d",
   "metadata": {},
   "outputs": [],
   "source": [
    "# Plot the heatmap\n",
    "plt.figure(figsize=(12, 8))\n",
    "\n",
    "# Plot each cluster with a different color\n",
    "for cluster in range(1, n + 1):\n",
    "    cd = df[df['Cluster'] == cluster]\n",
    "    plt.scatter(cd['Longitude'], cd['Latitude'], \n",
    "                label=f'Cluster {cluster}', alpha=0.5)\n",
    "\n",
    "# Add titles and labels\n",
    "plt.title('Restaurant Locations Heatmap')\n",
    "plt.xlabel('Longitude')\n",
    "plt.ylabel('Latitude')\n",
    "plt.legend()\n",
    "plt.grid(True)\n",
    "plt.show()"
   ]
  },
  {
   "cell_type": "markdown",
   "id": "b9c9172d",
   "metadata": {},
   "source": [
    "# Findings and Insights<hr>\n",
    "## 1. Restaurant Locations: The map visualization shows dense areas with high restaurant concentrations, revealing popular dining districts.\n",
    "## 2. Clusters: Hierachical clustering identifies distinct regions with high or low restaurant densities, highlighting potential business opportunities.<br><hr>\n",
    "# Recommendations:\n",
    "## Expansion: Target high-density areas for new ventures.\n",
    "## Marketing: Focus promotions in popular zones.\n",
    "## Development: Explore low-density areas for growth potential.<hr><br>"
   ]
  },
  {
   "cell_type": "markdown",
   "id": "25836963",
   "metadata": {},
   "source": [
    "# Task-4  Restaurant Chains\n",
    "<hr>"
   ]
  },
  {
   "cell_type": "markdown",
   "id": "9b381c44",
   "metadata": {},
   "source": [
    "# <hr>Problem Statement : \n",
    "\n",
    "## Objective: \n",
    "## 1. Identify if there are any restaurant chains present in the dataset.\n",
    "## 2. Analyze the ratings and popularity of different restaurant chains.\n",
    "\n",
    "## Overview\n",
    "###  <hr>The task involves analyzing restaurant chains within a dataset to understand their performance. Specifically, we aim to identify if any restaurant chains exist, evaluate their average ratings, and assess their popularity. This will provide insights into how different chains perform relative to one another and help identify any trends or patterns in their ratings and popularity."
   ]
  },
  {
   "cell_type": "markdown",
   "id": "def8639f",
   "metadata": {},
   "source": [
    "# Solve Problem -1"
   ]
  },
  {
   "cell_type": "code",
   "execution_count": null,
   "id": "b67faec8",
   "metadata": {},
   "outputs": [],
   "source": [
    "# Count occurrences of each restaurant name\n",
    "countc = df['Restaurant Name'].value_counts()\n",
    "\n",
    "# Filter to find names that appear more than once (indicating chains)\n",
    "chains = countc[countc > 1].index.tolist()\n",
    "print(\"Restaurant Chains Identified:\",chains)"
   ]
  },
  {
   "cell_type": "markdown",
   "id": "215dc1a6",
   "metadata": {},
   "source": [
    "# Solve Problem -2"
   ]
  },
  {
   "cell_type": "code",
   "execution_count": null,
   "id": "cf060f83",
   "metadata": {},
   "outputs": [],
   "source": [
    "# Create a DataFrame for only chains( filter data)\n",
    "chain_data = df[df['Restaurant Name'].isin(chains)]"
   ]
  },
  {
   "cell_type": "code",
   "execution_count": null,
   "id": "da28dd47",
   "metadata": {},
   "outputs": [],
   "source": [
    "# Calculate average ratings and popularity (total votes) for each chain\n",
    "chainratings = chain_data.groupby('Restaurant Name')['Aggregate rating'].mean()\n",
    "chain_votes = chain_data.groupby('Restaurant Name')['Votes'].sum()"
   ]
  },
  {
   "cell_type": "code",
   "execution_count": null,
   "id": "faa669bd",
   "metadata": {},
   "outputs": [],
   "source": [
    "# ANALYZE THE RESULT \n",
    "Result = pd.DataFrame({'Average Rating': chainratings, 'Total Votes': chain_votes})\n",
    "print(Result)"
   ]
  },
  {
   "cell_type": "markdown",
   "id": "fec7705a",
   "metadata": {},
   "source": [
    " # Finding and insights \n",
    "## 1. Identification of Chains:\n",
    "### Multiple restaurants with the same name were identified, indicating the presence of several restaurant chains in the dataset.\n",
    "\n",
    "## 2. Performance Analysis:\n",
    "### Average Ratings: The average ratings for each restaurant chain were calculated, providing insights into customer satisfaction.\n",
    "### Popularity: The total votes for each chain were summed, indicating the level of customer engagement and popularity.\n",
    "### Patterns: Chains with higher average ratings tend to be more popular, indicating that customer satisfaction is linked to higher engagement and possibly better business performance.<hr> \n",
    "\n",
    "# Recommendations\n",
    "### Focus on High-Rated Chains: Chains with higher average ratings should be given priority for marketing campaigns and promotional activities to leverage their positive customer perception.\n",
    "\n",
    "### Improve Low-Rated Chains: Chains with lower average ratings should undergo service and quality improvements to boost customer satisfaction and overall performance.\n",
    "\n",
    "### Monitor Trends: Continuously track the ratings and popularity of these chains to detect any changes or trends over time, and take proactive measures based on the insights gathered. <hr>"
   ]
  },
  {
   "cell_type": "markdown",
   "id": "9923df37",
   "metadata": {},
   "source": [
    "# Conclusion of Level-2<hr>"
   ]
  },
  {
   "cell_type": "markdown",
   "id": "33790810",
   "metadata": {},
   "source": [
    "## 1. The majority of restaurants received moderate to high ratings, and restaurants with higher ratings tended to have more customer engagement.\n",
    "## 2.  Certain cuisine combinations were more common and also received higher ratings, indicating a preference for specific cuisine pairings among customers.\n",
    "## 3. Certain areas had a high concentration of restaurants, indicating popular dining locations and potential target areas for new restaurant openings.\n",
    "## 4. Higher-rated chains were more popular, suggesting that customer satisfaction significantly impacts restaurant popularity.<hr>"
   ]
  },
  {
   "cell_type": "markdown",
   "id": "8cea2fac",
   "metadata": {},
   "source": [
    "## Overall Skills Learned\n",
    "### 1. Data Analysis: Proficient in handling, cleaning, and analyzing datasets to extract meaningful insights.\n",
    "### 2. Visualization: Developed skills in creating various plots to visualize data distribution, patterns, and relationships.\n",
    "### 3. Statistical Analysis: Enhanced ability to calculate averages, distributions, and perform comparative analysis.\n",
    "### 4. Geospatial Analysis: Gained experience in plotting geospatial data to identify geographical patterns and clusters."
   ]
  },
  {
   "cell_type": "code",
   "execution_count": null,
   "id": "026e1442",
   "metadata": {},
   "outputs": [],
   "source": []
  }
 ],
 "metadata": {
  "kernelspec": {
   "display_name": "Python 3 (ipykernel)",
   "language": "python",
   "name": "python3"
  },
  "language_info": {
   "codemirror_mode": {
    "name": "ipython",
    "version": 3
   },
   "file_extension": ".py",
   "mimetype": "text/x-python",
   "name": "python",
   "nbconvert_exporter": "python",
   "pygments_lexer": "ipython3",
   "version": "3.9.12"
  }
 },
 "nbformat": 4,
 "nbformat_minor": 5
}
