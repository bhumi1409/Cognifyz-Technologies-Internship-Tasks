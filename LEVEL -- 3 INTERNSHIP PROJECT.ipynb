{
 "cells": [
  {
   "cell_type": "markdown",
   "id": "774e70ff",
   "metadata": {},
   "source": [
    "# INTERNSHIP PROJECT - COGNIFYZ TECHNOLOGIES <hr>\n",
    "# RESTAURANTS ANALYSIS<hr>\n",
    "# LEVEL- 3<hr>\n"
   ]
  },
  {
   "cell_type": "markdown",
   "id": "f249a617",
   "metadata": {},
   "source": [
    "# Task-1  Restaurant Ratings"
   ]
  },
  {
   "cell_type": "markdown",
   "id": "e8fee943",
   "metadata": {},
   "source": [
    "# <hr>Problem Statement : \n",
    "\n",
    "## Objective: \n",
    "## 1. Analyze the text reviews to identify the most common positive and negative keywords.\n",
    "## 2. Calculate the average length of reviews and explore if there is a relationship between\n",
    "## review length and rating.\n",
    "\n",
    "## Overview\n",
    "###  <hr>The goal of this project is to conduct a comprehensive analysis of restaurant data to extract valuable insights. This includes identifying common keywords in reviews, understanding review patterns, and exploring various factors affecting restaurant ratings and popularity. <hr>"
   ]
  },
  {
   "cell_type": "markdown",
   "id": "41649ab5",
   "metadata": {},
   "source": [
    "# IMPORT LIBRARIES"
   ]
  },
  {
   "cell_type": "code",
   "execution_count": 5,
   "id": "1cc139fc",
   "metadata": {},
   "outputs": [],
   "source": [
    "import numpy as np\n",
    "import pandas as pd\n",
    "import matplotlib.pyplot as plt\n",
    "import seaborn as sns\n",
    "import nltk\n",
    "from nltk.tokenize import word_tokenize\n",
    "from nltk.corpus import stopwords\n",
    "from nltk.sentiment import SentimentIntensityAnalyzer"
   ]
  },
  {
   "cell_type": "markdown",
   "id": "1aec0681",
   "metadata": {},
   "source": [
    "# LOAD DATASET"
   ]
  },
  {
   "cell_type": "code",
   "execution_count": 2,
   "id": "d501399f",
   "metadata": {},
   "outputs": [
    {
     "data": {
      "text/html": [
       "<div>\n",
       "<style scoped>\n",
       "    .dataframe tbody tr th:only-of-type {\n",
       "        vertical-align: middle;\n",
       "    }\n",
       "\n",
       "    .dataframe tbody tr th {\n",
       "        vertical-align: top;\n",
       "    }\n",
       "\n",
       "    .dataframe thead th {\n",
       "        text-align: right;\n",
       "    }\n",
       "</style>\n",
       "<table border=\"1\" class=\"dataframe\">\n",
       "  <thead>\n",
       "    <tr style=\"text-align: right;\">\n",
       "      <th></th>\n",
       "      <th>Restaurant ID</th>\n",
       "      <th>Restaurant Name</th>\n",
       "      <th>Country Code</th>\n",
       "      <th>City</th>\n",
       "      <th>Address</th>\n",
       "      <th>Locality</th>\n",
       "      <th>Locality Verbose</th>\n",
       "      <th>Longitude</th>\n",
       "      <th>Latitude</th>\n",
       "      <th>Cuisines</th>\n",
       "      <th>...</th>\n",
       "      <th>Currency</th>\n",
       "      <th>Has Table booking</th>\n",
       "      <th>Has Online delivery</th>\n",
       "      <th>Is delivering now</th>\n",
       "      <th>Switch to order menu</th>\n",
       "      <th>Price range</th>\n",
       "      <th>Aggregate rating</th>\n",
       "      <th>Rating color</th>\n",
       "      <th>Rating text</th>\n",
       "      <th>Votes</th>\n",
       "    </tr>\n",
       "  </thead>\n",
       "  <tbody>\n",
       "    <tr>\n",
       "      <th>0</th>\n",
       "      <td>6317637</td>\n",
       "      <td>Le Petit Souffle</td>\n",
       "      <td>162</td>\n",
       "      <td>Makati City</td>\n",
       "      <td>Third Floor, Century City Mall, Kalayaan Avenu...</td>\n",
       "      <td>Century City Mall, Poblacion, Makati City</td>\n",
       "      <td>Century City Mall, Poblacion, Makati City, Mak...</td>\n",
       "      <td>121.027535</td>\n",
       "      <td>14.565443</td>\n",
       "      <td>French, Japanese, Desserts</td>\n",
       "      <td>...</td>\n",
       "      <td>Botswana Pula(P)</td>\n",
       "      <td>Yes</td>\n",
       "      <td>No</td>\n",
       "      <td>No</td>\n",
       "      <td>No</td>\n",
       "      <td>3</td>\n",
       "      <td>4.8</td>\n",
       "      <td>Dark Green</td>\n",
       "      <td>Excellent</td>\n",
       "      <td>314</td>\n",
       "    </tr>\n",
       "    <tr>\n",
       "      <th>1</th>\n",
       "      <td>6304287</td>\n",
       "      <td>Izakaya Kikufuji</td>\n",
       "      <td>162</td>\n",
       "      <td>Makati City</td>\n",
       "      <td>Little Tokyo, 2277 Chino Roces Avenue, Legaspi...</td>\n",
       "      <td>Little Tokyo, Legaspi Village, Makati City</td>\n",
       "      <td>Little Tokyo, Legaspi Village, Makati City, Ma...</td>\n",
       "      <td>121.014101</td>\n",
       "      <td>14.553708</td>\n",
       "      <td>Japanese</td>\n",
       "      <td>...</td>\n",
       "      <td>Botswana Pula(P)</td>\n",
       "      <td>Yes</td>\n",
       "      <td>No</td>\n",
       "      <td>No</td>\n",
       "      <td>No</td>\n",
       "      <td>3</td>\n",
       "      <td>4.5</td>\n",
       "      <td>Dark Green</td>\n",
       "      <td>Excellent</td>\n",
       "      <td>591</td>\n",
       "    </tr>\n",
       "    <tr>\n",
       "      <th>2</th>\n",
       "      <td>6300002</td>\n",
       "      <td>Heat - Edsa Shangri-La</td>\n",
       "      <td>162</td>\n",
       "      <td>Mandaluyong City</td>\n",
       "      <td>Edsa Shangri-La, 1 Garden Way, Ortigas, Mandal...</td>\n",
       "      <td>Edsa Shangri-La, Ortigas, Mandaluyong City</td>\n",
       "      <td>Edsa Shangri-La, Ortigas, Mandaluyong City, Ma...</td>\n",
       "      <td>121.056831</td>\n",
       "      <td>14.581404</td>\n",
       "      <td>Seafood, Asian, Filipino, Indian</td>\n",
       "      <td>...</td>\n",
       "      <td>Botswana Pula(P)</td>\n",
       "      <td>Yes</td>\n",
       "      <td>No</td>\n",
       "      <td>No</td>\n",
       "      <td>No</td>\n",
       "      <td>4</td>\n",
       "      <td>4.4</td>\n",
       "      <td>Green</td>\n",
       "      <td>Very Good</td>\n",
       "      <td>270</td>\n",
       "    </tr>\n",
       "    <tr>\n",
       "      <th>3</th>\n",
       "      <td>6318506</td>\n",
       "      <td>Ooma</td>\n",
       "      <td>162</td>\n",
       "      <td>Mandaluyong City</td>\n",
       "      <td>Third Floor, Mega Fashion Hall, SM Megamall, O...</td>\n",
       "      <td>SM Megamall, Ortigas, Mandaluyong City</td>\n",
       "      <td>SM Megamall, Ortigas, Mandaluyong City, Mandal...</td>\n",
       "      <td>121.056475</td>\n",
       "      <td>14.585318</td>\n",
       "      <td>Japanese, Sushi</td>\n",
       "      <td>...</td>\n",
       "      <td>Botswana Pula(P)</td>\n",
       "      <td>No</td>\n",
       "      <td>No</td>\n",
       "      <td>No</td>\n",
       "      <td>No</td>\n",
       "      <td>4</td>\n",
       "      <td>4.9</td>\n",
       "      <td>Dark Green</td>\n",
       "      <td>Excellent</td>\n",
       "      <td>365</td>\n",
       "    </tr>\n",
       "    <tr>\n",
       "      <th>4</th>\n",
       "      <td>6314302</td>\n",
       "      <td>Sambo Kojin</td>\n",
       "      <td>162</td>\n",
       "      <td>Mandaluyong City</td>\n",
       "      <td>Third Floor, Mega Atrium, SM Megamall, Ortigas...</td>\n",
       "      <td>SM Megamall, Ortigas, Mandaluyong City</td>\n",
       "      <td>SM Megamall, Ortigas, Mandaluyong City, Mandal...</td>\n",
       "      <td>121.057508</td>\n",
       "      <td>14.584450</td>\n",
       "      <td>Japanese, Korean</td>\n",
       "      <td>...</td>\n",
       "      <td>Botswana Pula(P)</td>\n",
       "      <td>Yes</td>\n",
       "      <td>No</td>\n",
       "      <td>No</td>\n",
       "      <td>No</td>\n",
       "      <td>4</td>\n",
       "      <td>4.8</td>\n",
       "      <td>Dark Green</td>\n",
       "      <td>Excellent</td>\n",
       "      <td>229</td>\n",
       "    </tr>\n",
       "    <tr>\n",
       "      <th>...</th>\n",
       "      <td>...</td>\n",
       "      <td>...</td>\n",
       "      <td>...</td>\n",
       "      <td>...</td>\n",
       "      <td>...</td>\n",
       "      <td>...</td>\n",
       "      <td>...</td>\n",
       "      <td>...</td>\n",
       "      <td>...</td>\n",
       "      <td>...</td>\n",
       "      <td>...</td>\n",
       "      <td>...</td>\n",
       "      <td>...</td>\n",
       "      <td>...</td>\n",
       "      <td>...</td>\n",
       "      <td>...</td>\n",
       "      <td>...</td>\n",
       "      <td>...</td>\n",
       "      <td>...</td>\n",
       "      <td>...</td>\n",
       "      <td>...</td>\n",
       "    </tr>\n",
       "    <tr>\n",
       "      <th>9546</th>\n",
       "      <td>5915730</td>\n",
       "      <td>Naml۱ Gurme</td>\n",
       "      <td>208</td>\n",
       "      <td>��stanbul</td>\n",
       "      <td>Kemanke�� Karamustafa Pa��a Mahallesi, R۱ht۱m ...</td>\n",
       "      <td>Karak�_y</td>\n",
       "      <td>Karak�_y, ��stanbul</td>\n",
       "      <td>28.977392</td>\n",
       "      <td>41.022793</td>\n",
       "      <td>Turkish</td>\n",
       "      <td>...</td>\n",
       "      <td>Turkish Lira(TL)</td>\n",
       "      <td>No</td>\n",
       "      <td>No</td>\n",
       "      <td>No</td>\n",
       "      <td>No</td>\n",
       "      <td>3</td>\n",
       "      <td>4.1</td>\n",
       "      <td>Green</td>\n",
       "      <td>Very Good</td>\n",
       "      <td>788</td>\n",
       "    </tr>\n",
       "    <tr>\n",
       "      <th>9547</th>\n",
       "      <td>5908749</td>\n",
       "      <td>Ceviz A��ac۱</td>\n",
       "      <td>208</td>\n",
       "      <td>��stanbul</td>\n",
       "      <td>Ko��uyolu Mahallesi, Muhittin ��st�_nda�� Cadd...</td>\n",
       "      <td>Ko��uyolu</td>\n",
       "      <td>Ko��uyolu, ��stanbul</td>\n",
       "      <td>29.041297</td>\n",
       "      <td>41.009847</td>\n",
       "      <td>World Cuisine, Patisserie, Cafe</td>\n",
       "      <td>...</td>\n",
       "      <td>Turkish Lira(TL)</td>\n",
       "      <td>No</td>\n",
       "      <td>No</td>\n",
       "      <td>No</td>\n",
       "      <td>No</td>\n",
       "      <td>3</td>\n",
       "      <td>4.2</td>\n",
       "      <td>Green</td>\n",
       "      <td>Very Good</td>\n",
       "      <td>1034</td>\n",
       "    </tr>\n",
       "    <tr>\n",
       "      <th>9548</th>\n",
       "      <td>5915807</td>\n",
       "      <td>Huqqa</td>\n",
       "      <td>208</td>\n",
       "      <td>��stanbul</td>\n",
       "      <td>Kuru�_e��me Mahallesi, Muallim Naci Caddesi, N...</td>\n",
       "      <td>Kuru�_e��me</td>\n",
       "      <td>Kuru�_e��me, ��stanbul</td>\n",
       "      <td>29.034640</td>\n",
       "      <td>41.055817</td>\n",
       "      <td>Italian, World Cuisine</td>\n",
       "      <td>...</td>\n",
       "      <td>Turkish Lira(TL)</td>\n",
       "      <td>No</td>\n",
       "      <td>No</td>\n",
       "      <td>No</td>\n",
       "      <td>No</td>\n",
       "      <td>4</td>\n",
       "      <td>3.7</td>\n",
       "      <td>Yellow</td>\n",
       "      <td>Good</td>\n",
       "      <td>661</td>\n",
       "    </tr>\n",
       "    <tr>\n",
       "      <th>9549</th>\n",
       "      <td>5916112</td>\n",
       "      <td>A���k Kahve</td>\n",
       "      <td>208</td>\n",
       "      <td>��stanbul</td>\n",
       "      <td>Kuru�_e��me Mahallesi, Muallim Naci Caddesi, N...</td>\n",
       "      <td>Kuru�_e��me</td>\n",
       "      <td>Kuru�_e��me, ��stanbul</td>\n",
       "      <td>29.036019</td>\n",
       "      <td>41.057979</td>\n",
       "      <td>Restaurant Cafe</td>\n",
       "      <td>...</td>\n",
       "      <td>Turkish Lira(TL)</td>\n",
       "      <td>No</td>\n",
       "      <td>No</td>\n",
       "      <td>No</td>\n",
       "      <td>No</td>\n",
       "      <td>4</td>\n",
       "      <td>4.0</td>\n",
       "      <td>Green</td>\n",
       "      <td>Very Good</td>\n",
       "      <td>901</td>\n",
       "    </tr>\n",
       "    <tr>\n",
       "      <th>9550</th>\n",
       "      <td>5927402</td>\n",
       "      <td>Walter's Coffee Roastery</td>\n",
       "      <td>208</td>\n",
       "      <td>��stanbul</td>\n",
       "      <td>Cafea��a Mahallesi, Bademalt۱ Sokak, No 21/B, ...</td>\n",
       "      <td>Moda</td>\n",
       "      <td>Moda, ��stanbul</td>\n",
       "      <td>29.026016</td>\n",
       "      <td>40.984776</td>\n",
       "      <td>Cafe</td>\n",
       "      <td>...</td>\n",
       "      <td>Turkish Lira(TL)</td>\n",
       "      <td>No</td>\n",
       "      <td>No</td>\n",
       "      <td>No</td>\n",
       "      <td>No</td>\n",
       "      <td>2</td>\n",
       "      <td>4.0</td>\n",
       "      <td>Green</td>\n",
       "      <td>Very Good</td>\n",
       "      <td>591</td>\n",
       "    </tr>\n",
       "  </tbody>\n",
       "</table>\n",
       "<p>9551 rows × 21 columns</p>\n",
       "</div>"
      ],
      "text/plain": [
       "      Restaurant ID           Restaurant Name  Country Code              City  \\\n",
       "0           6317637          Le Petit Souffle           162       Makati City   \n",
       "1           6304287          Izakaya Kikufuji           162       Makati City   \n",
       "2           6300002    Heat - Edsa Shangri-La           162  Mandaluyong City   \n",
       "3           6318506                      Ooma           162  Mandaluyong City   \n",
       "4           6314302               Sambo Kojin           162  Mandaluyong City   \n",
       "...             ...                       ...           ...               ...   \n",
       "9546        5915730               Naml۱ Gurme           208         ��stanbul   \n",
       "9547        5908749              Ceviz A��ac۱           208         ��stanbul   \n",
       "9548        5915807                     Huqqa           208         ��stanbul   \n",
       "9549        5916112               A���k Kahve           208         ��stanbul   \n",
       "9550        5927402  Walter's Coffee Roastery           208         ��stanbul   \n",
       "\n",
       "                                                Address  \\\n",
       "0     Third Floor, Century City Mall, Kalayaan Avenu...   \n",
       "1     Little Tokyo, 2277 Chino Roces Avenue, Legaspi...   \n",
       "2     Edsa Shangri-La, 1 Garden Way, Ortigas, Mandal...   \n",
       "3     Third Floor, Mega Fashion Hall, SM Megamall, O...   \n",
       "4     Third Floor, Mega Atrium, SM Megamall, Ortigas...   \n",
       "...                                                 ...   \n",
       "9546  Kemanke�� Karamustafa Pa��a Mahallesi, R۱ht۱m ...   \n",
       "9547  Ko��uyolu Mahallesi, Muhittin ��st�_nda�� Cadd...   \n",
       "9548  Kuru�_e��me Mahallesi, Muallim Naci Caddesi, N...   \n",
       "9549  Kuru�_e��me Mahallesi, Muallim Naci Caddesi, N...   \n",
       "9550  Cafea��a Mahallesi, Bademalt۱ Sokak, No 21/B, ...   \n",
       "\n",
       "                                        Locality  \\\n",
       "0      Century City Mall, Poblacion, Makati City   \n",
       "1     Little Tokyo, Legaspi Village, Makati City   \n",
       "2     Edsa Shangri-La, Ortigas, Mandaluyong City   \n",
       "3         SM Megamall, Ortigas, Mandaluyong City   \n",
       "4         SM Megamall, Ortigas, Mandaluyong City   \n",
       "...                                          ...   \n",
       "9546                                    Karak�_y   \n",
       "9547                                   Ko��uyolu   \n",
       "9548                                 Kuru�_e��me   \n",
       "9549                                 Kuru�_e��me   \n",
       "9550                                        Moda   \n",
       "\n",
       "                                       Locality Verbose   Longitude  \\\n",
       "0     Century City Mall, Poblacion, Makati City, Mak...  121.027535   \n",
       "1     Little Tokyo, Legaspi Village, Makati City, Ma...  121.014101   \n",
       "2     Edsa Shangri-La, Ortigas, Mandaluyong City, Ma...  121.056831   \n",
       "3     SM Megamall, Ortigas, Mandaluyong City, Mandal...  121.056475   \n",
       "4     SM Megamall, Ortigas, Mandaluyong City, Mandal...  121.057508   \n",
       "...                                                 ...         ...   \n",
       "9546                                Karak�_y, ��stanbul   28.977392   \n",
       "9547                               Ko��uyolu, ��stanbul   29.041297   \n",
       "9548                             Kuru�_e��me, ��stanbul   29.034640   \n",
       "9549                             Kuru�_e��me, ��stanbul   29.036019   \n",
       "9550                                    Moda, ��stanbul   29.026016   \n",
       "\n",
       "       Latitude                          Cuisines  ...          Currency  \\\n",
       "0     14.565443        French, Japanese, Desserts  ...  Botswana Pula(P)   \n",
       "1     14.553708                          Japanese  ...  Botswana Pula(P)   \n",
       "2     14.581404  Seafood, Asian, Filipino, Indian  ...  Botswana Pula(P)   \n",
       "3     14.585318                   Japanese, Sushi  ...  Botswana Pula(P)   \n",
       "4     14.584450                  Japanese, Korean  ...  Botswana Pula(P)   \n",
       "...         ...                               ...  ...               ...   \n",
       "9546  41.022793                           Turkish  ...  Turkish Lira(TL)   \n",
       "9547  41.009847   World Cuisine, Patisserie, Cafe  ...  Turkish Lira(TL)   \n",
       "9548  41.055817            Italian, World Cuisine  ...  Turkish Lira(TL)   \n",
       "9549  41.057979                   Restaurant Cafe  ...  Turkish Lira(TL)   \n",
       "9550  40.984776                              Cafe  ...  Turkish Lira(TL)   \n",
       "\n",
       "     Has Table booking Has Online delivery Is delivering now  \\\n",
       "0                  Yes                  No                No   \n",
       "1                  Yes                  No                No   \n",
       "2                  Yes                  No                No   \n",
       "3                   No                  No                No   \n",
       "4                  Yes                  No                No   \n",
       "...                ...                 ...               ...   \n",
       "9546                No                  No                No   \n",
       "9547                No                  No                No   \n",
       "9548                No                  No                No   \n",
       "9549                No                  No                No   \n",
       "9550                No                  No                No   \n",
       "\n",
       "     Switch to order menu Price range  Aggregate rating  Rating color  \\\n",
       "0                      No           3               4.8    Dark Green   \n",
       "1                      No           3               4.5    Dark Green   \n",
       "2                      No           4               4.4         Green   \n",
       "3                      No           4               4.9    Dark Green   \n",
       "4                      No           4               4.8    Dark Green   \n",
       "...                   ...         ...               ...           ...   \n",
       "9546                   No           3               4.1         Green   \n",
       "9547                   No           3               4.2         Green   \n",
       "9548                   No           4               3.7        Yellow   \n",
       "9549                   No           4               4.0         Green   \n",
       "9550                   No           2               4.0         Green   \n",
       "\n",
       "     Rating text Votes  \n",
       "0      Excellent   314  \n",
       "1      Excellent   591  \n",
       "2      Very Good   270  \n",
       "3      Excellent   365  \n",
       "4      Excellent   229  \n",
       "...          ...   ...  \n",
       "9546   Very Good   788  \n",
       "9547   Very Good  1034  \n",
       "9548        Good   661  \n",
       "9549   Very Good   901  \n",
       "9550   Very Good   591  \n",
       "\n",
       "[9551 rows x 21 columns]"
      ]
     },
     "execution_count": 2,
     "metadata": {},
     "output_type": "execute_result"
    }
   ],
   "source": [
    "df=pd.read_csv('Restaurent_data.csv')\n",
    "df"
   ]
  },
  {
   "cell_type": "markdown",
   "id": "2a8e68ab",
   "metadata": {},
   "source": [
    "# Solve Problem - 1"
   ]
  },
  {
   "cell_type": "code",
   "execution_count": 7,
   "id": "10d59147",
   "metadata": {},
   "outputs": [
    {
     "name": "stderr",
     "output_type": "stream",
     "text": [
      "[nltk_data] Downloading package punkt to\n",
      "[nltk_data]     C:\\Users\\USER\\AppData\\Roaming\\nltk_data...\n",
      "[nltk_data]   Package punkt is already up-to-date!\n",
      "[nltk_data] Downloading package stopwords to\n",
      "[nltk_data]     C:\\Users\\USER\\AppData\\Roaming\\nltk_data...\n",
      "[nltk_data]   Package stopwords is already up-to-date!\n",
      "[nltk_data] Downloading package vader_lexicon to\n",
      "[nltk_data]     C:\\Users\\USER\\AppData\\Roaming\\nltk_data...\n"
     ]
    }
   ],
   "source": [
    "# Initialize NLTK tools\n",
    "nltk.download('punkt')\n",
    "nltk.download('stopwords')\n",
    "nltk.download('vader_lexicon')\n",
    "sia = SentimentIntensityAnalyzer()"
   ]
  },
  {
   "cell_type": "code",
   "execution_count": 18,
   "id": "b7d4d8f2",
   "metadata": {},
   "outputs": [],
   "source": [
    "# Define stop words\n",
    "stop_words = set(stopwords.words('english'))\n",
    "\n",
    "# Preprocess the reviews\n",
    "def preprocess_review(review):\n",
    "    tokens = word_tokenize(str(review).lower())\n",
    "    return [word for word in tokens if word.isalpha() and word not in stop_words]\n",
    "\n",
    "df['Cleaned_Reviews'] = df['Rating text'].apply(preprocess_review)"
   ]
  },
  {
   "cell_type": "code",
   "execution_count": 22,
   "id": "b4923459",
   "metadata": {},
   "outputs": [],
   "source": [
    "# Add cleaned reviews to the DataFrame\n",
    "df['Cleaned_Reviews'] = cleaned\n",
    "\n",
    "# Perform sentiment analysis and add the results to the DataFrame\n",
    "sentiments = []\n",
    "for review in df['Cleaned_Reviews']:\n",
    "    sentiment_score = sia.polarity_scores(review)['compound']\n",
    "    if sentiment_score > 0:\n",
    "        sentiments.append('positive')\n",
    "    else:\n",
    "        sentiments.append('negative')\n",
    "\n",
    "df['Sentiment'] = sentiments"
   ]
  },
  {
   "cell_type": "code",
   "execution_count": 25,
   "id": "76bb77f8",
   "metadata": {},
   "outputs": [
    {
     "name": "stdout",
     "output_type": "stream",
     "text": [
      "Common Positive Keywords:\n",
      " good         3179\n",
      "excellent     301\n",
      "Name: Cleaned_Reviews, dtype: int64\n",
      "Common Negative Keywords:\n",
      " average    3737\n",
      "rated      2148\n",
      "poor        186\n",
      "Name: Cleaned_Reviews, dtype: int64\n"
     ]
    }
   ],
   "source": [
    "# Identify common keywords for positive and negative reviews\n",
    "positive_reviews = df[df['Sentiment'] == 'positive']['Cleaned_Reviews'].explode()\n",
    "negative_reviews = df[df['Sentiment'] == 'negative']['Cleaned_Reviews'].explode()\n",
    "\n",
    "# Convert the exploded lists into Series for value counting\n",
    "positive_keywords = pd.Series(positive_reviews).value_counts().head(10)\n",
    "negative_keywords = pd.Series(negative_reviews).value_counts().head(10)\n",
    "\n",
    "print(\"Common Positive Keywords:\\n\",positive_keywords)\n",
    "print(\"Common Negative Keywords:\\n\",negative_keywords)"
   ]
  },
  {
   "cell_type": "markdown",
   "id": "958506e7",
   "metadata": {},
   "source": [
    "# Solve Problem - 2"
   ]
  },
  {
   "cell_type": "code",
   "execution_count": 30,
   "id": "b8b47615",
   "metadata": {},
   "outputs": [
    {
     "name": "stdout",
     "output_type": "stream",
     "text": [
      "Average Review Length: 1.3378703800649148\n"
     ]
    }
   ],
   "source": [
    "# Calculate the average length of reviews\n",
    "df['Review_Length'] = df['Rating text'].apply(lambda review: len(word_tokenize(str(review))))\n",
    "average_length = df['Review_Length'].mean()\n",
    "print(\"Average Review Length:\", average_length)"
   ]
  },
  {
   "cell_type": "markdown",
   "id": "81abea3f",
   "metadata": {},
   "source": [
    "# Data Visualization"
   ]
  },
  {
   "cell_type": "code",
   "execution_count": 33,
   "id": "d51f4b34",
   "metadata": {},
   "outputs": [
    {
     "data": {
      "image/png": "[encoded data removed]",
      "text/plain": [
       "<Figure size 720x432 with 1 Axes>"
      ]
     },
     "metadata": {
      "needs_background": "light"
     },
     "output_type": "display_data"
    }
   ],
   "source": [
    "# Calculate the average review length for each rating\n",
    "av_rating = df.groupby('Aggregate rating')['Review_Length'].mean()\n",
    "\n",
    "# Plot the relationship between review length and rating\n",
    "plt.figure(figsize=(10, 6))\n",
    "plt.scatter(df['Aggregate rating'], df['Review_Length'], alpha=0.5, label='Review Length')\n",
    "plt.plot(av_rating.index, av_rating.values, color='red', linewidth=2, label='Average Review Length')\n",
    "plt.title('Relationship between Review Length and Rating')\n",
    "plt.xlabel('Aggregate Rating')\n",
    "plt.ylabel('Review Length')\n",
    "plt.legend()\n",
    "plt.show()"
   ]
  },
  {
   "cell_type": "markdown",
   "id": "c47b2f05",
   "metadata": {},
   "source": [
    "# Insights and Findings:\n",
    "## 1. The most common positive and negative keywords provide insights into what customers like and dislike about the restaurants.\n",
    "## 2. The average length of reviews gives an idea about the verbosity of the feedback.\n",
    "## 3. The boxplot helps identify any patterns or correlations between review length and the ratings given by customers.<hr>"
   ]
  },
  {
   "cell_type": "markdown",
   "id": "ee2eb26e",
   "metadata": {},
   "source": [
    "# Task-2    Votes Analysis"
   ]
  },
  {
   "cell_type": "markdown",
   "id": "bae5827a",
   "metadata": {},
   "source": [
    "# <hr>Problem Statement : \n",
    "\n",
    "## Objective: \n",
    "## 1. Identify the restaurants with the highest and lowest number of votes.\n",
    "## 2. Analyze if there is a correlation between the number of votes and the rating of restaurant.\n",
    "\n",
    "## Overview\n",
    "###  <hr>The goal is to identify restaurants with the highest and lowest number of votes and analyze the correlation between the number of votes and the restaurant's rating. This helps in understanding the popularity and quality of restaurants based on customer feedback.<hr>"
   ]
  },
  {
   "cell_type": "markdown",
   "id": "1258de5b",
   "metadata": {},
   "source": [
    "# Solve Problem - 1"
   ]
  },
  {
   "cell_type": "code",
   "execution_count": 37,
   "id": "31a436b3",
   "metadata": {},
   "outputs": [
    {
     "name": "stdout",
     "output_type": "stream",
     "text": [
      "Restaurant with the Most Votes:\n",
      "Restaurant Name      Toit\n",
      "Votes               10934\n",
      "Aggregate rating      4.8\n",
      "Name: 728, dtype: object\n",
      "\n",
      "Restaurant with the Least Votes:\n",
      "Restaurant Name     Cantinho da Gula\n",
      "Votes                              0\n",
      "Aggregate rating                 0.0\n",
      "Name: 69, dtype: object\n"
     ]
    }
   ],
   "source": [
    "# Identify the restaurants with the highest and lowest number of votes\n",
    "most_votes = df.loc[df['Votes'].idxmax()]\n",
    "least_votes = df.loc[df['Votes'].idxmin()]\n",
    "\n",
    "print(\"Restaurant with the Most Votes:\")\n",
    "print(most_votes[['Restaurant Name', 'Votes', 'Aggregate rating']])\n",
    "\n",
    "print(\"\\nRestaurant with the Least Votes:\")\n",
    "print(least_votes[['Restaurant Name', 'Votes', 'Aggregate rating']])"
   ]
  },
  {
   "cell_type": "markdown",
   "id": "cc1dd24d",
   "metadata": {},
   "source": [
    "# Solve Problem - 2"
   ]
  },
  {
   "cell_type": "code",
   "execution_count": 39,
   "id": "4dfd865f",
   "metadata": {},
   "outputs": [
    {
     "name": "stdout",
     "output_type": "stream",
     "text": [
      "\n",
      "Correlation between Votes and Aggregate Rating: 0.31369058419541146\n"
     ]
    }
   ],
   "source": [
    "# Analyze the correlation between the number of votes and the rating\n",
    "correlation = df['Votes'].corr(df['Aggregate rating'])\n",
    "print(\"\\nCorrelation between Votes and Aggregate Rating:\", correlation)\n"
   ]
  },
  {
   "cell_type": "markdown",
   "id": "7851bfff",
   "metadata": {},
   "source": [
    "# Data Visualization"
   ]
  },
  {
   "cell_type": "code",
   "execution_count": 42,
   "id": "37e20b83",
   "metadata": {},
   "outputs": [
    {
     "data": {
      "image/png": "[encoded data removed]",
      "text/plain": [
       "<Figure size 720x432 with 1 Axes>"
      ]
     },
     "metadata": {
      "needs_background": "light"
     },
     "output_type": "display_data"
    }
   ],
   "source": [
    "# Plot the relationship between the number of votes and the rating\n",
    "plt.figure(figsize=(10, 6))\n",
    "sns.scatterplot(x='Votes', y='Aggregate rating', data=df, alpha=0.6)\n",
    "plt.title('Relationship between Votes and Aggregate Rating')\n",
    "plt.xlabel('Number of Votes')\n",
    "plt.ylabel('Aggregate Rating')\n",
    "plt.show()"
   ]
  },
  {
   "cell_type": "markdown",
   "id": "e1acf3aa",
   "metadata": {},
   "source": [
    "# <hr>  Insights and Findings:\n",
    "\n",
    "## 1. Most and Least Popular Restaurants: By identifying the restaurants with the highest and lowest number of votes, we can gain insights into their popularity and rating among customers.\n",
    "## 2. Correlation Between Votes and Ratings: Analyzing the correlation helps in understanding whether highly-rated restaurants tend to receive more votes or if there is no significant relationship between votes and ratings.\n",
    "## 3. Visualization: The scatter plot provides a clear visual representation of how votes and ratings are related, revealing any patterns or trends.<hr>\n",
    "\n",
    "\n",
    "# Recommendations:\n",
    "\n",
    "## 1.  Promote High-Rated Restaurants: High-rated restaurants with fewer votes may benefit from increased marketing and visibility to attract more customers.\n",
    "## 2. Improve Low-Rated Restaurants: Restaurants with many votes but low ratings should focus on improving their food quality and service to enhance customer satisfaction and ratings.<hr>"
   ]
  },
  {
   "cell_type": "markdown",
   "id": "8b61d5e6",
   "metadata": {},
   "source": [
    "# Task-3    Price Range vs. Online Delivery and Table Booking"
   ]
  },
  {
   "cell_type": "markdown",
   "id": "76b993e8",
   "metadata": {},
   "source": [
    "# <hr>Problem Statement : \n",
    "\n",
    "## Objective: \n",
    "## 1. Analyze if there is a relationship between the price range and the availability of online delivery and table booking.\n",
    "## 2. Determine if higher-priced restaurants are more likely to offer these services.\n",
    "\n",
    "## Overview\n",
    "###  <hr>The objective of this task is to analyze the relationship between the price range of restaurants and the availability of online delivery and table booking services. Specifically, we aim to determine if higher-priced restaurants are more likely to offer these services.<hr>"
   ]
  },
  {
   "cell_type": "markdown",
   "id": "165940fe",
   "metadata": {},
   "source": [
    "#  Solve Problem - 1"
   ]
  },
  {
   "cell_type": "code",
   "execution_count": 44,
   "id": "1fadbf33",
   "metadata": {},
   "outputs": [],
   "source": [
    "# Convert 'Has Online delivery' and 'Has Table booking' to binary values\n",
    "df['Has Online delivery'] = df['Has Online delivery'].apply(lambda x: 1 if x == 'Yes' else 0)\n",
    "df['Has Table booking'] = df['Has Table booking'].apply(lambda x: 1 if x == 'Yes' else 0)"
   ]
  },
  {
   "cell_type": "code",
   "execution_count": 46,
   "id": "8946d18f",
   "metadata": {},
   "outputs": [],
   "source": [
    "# Analyze the relationship between price range and online delivery\n",
    "online_delivery_by_price = df.groupby('Price range')['Has Online delivery'].mean()\n",
    "table_booking_by_price = df.groupby('Price range')['Has Table booking'].mean()"
   ]
  },
  {
   "cell_type": "markdown",
   "id": "e02c3ca6",
   "metadata": {},
   "source": [
    "# Data Visualization"
   ]
  },
  {
   "cell_type": "code",
   "execution_count": 47,
   "id": "7dd3d887",
   "metadata": {},
   "outputs": [
    {
     "data": {
      "text/plain": [
       "Text(0, 0.5, 'Proportion Offering Online Delivery')"
      ]
     },
     "execution_count": 47,
     "metadata": {},
     "output_type": "execute_result"
    },
    {
     "data": {
      "image/png": "[encoded data removed]",
      "text/plain": [
       "<Figure size 1008x504 with 1 Axes>"
      ]
     },
     "metadata": {
      "needs_background": "light"
     },
     "output_type": "display_data"
    }
   ],
   "source": [
    "# Plot the relationship between price range and the availability of online delivery\n",
    "plt.figure(figsize=(14, 7))\n",
    "plt.subplot(1, 2, 1)\n",
    "sns.barplot(x=online_delivery_by_price.index, y=online_delivery_by_price.values, palette='viridis')\n",
    "plt.title('Online Delivery Availability by Price Range')\n",
    "plt.xlabel('Price Range')\n",
    "plt.ylabel('Proportion Offering Online Delivery')"
   ]
  },
  {
   "cell_type": "code",
   "execution_count": 48,
   "id": "c33508b0",
   "metadata": {},
   "outputs": [
    {
     "data": {
      "image/png": "[encoded data removed]",
      "text/plain": [
       "<Figure size 432x288 with 1 Axes>"
      ]
     },
     "metadata": {
      "needs_background": "light"
     },
     "output_type": "display_data"
    }
   ],
   "source": [
    "# Plot the relationship between price range and the availability of table booking\n",
    "plt.subplot(1, 2, 2)\n",
    "sns.barplot(x=table_booking_by_price.index, y=table_booking_by_price.values, palette='viridis')\n",
    "plt.title('Table Booking Availability by Price Range')\n",
    "plt.xlabel('Price Range')\n",
    "plt.ylabel('Proportion Offering Table Booking')\n",
    "plt.show()"
   ]
  },
  {
   "cell_type": "markdown",
   "id": "9819049c",
   "metadata": {},
   "source": [
    "# Solve Problem - 2"
   ]
  },
  {
   "cell_type": "code",
   "execution_count": 50,
   "id": "f0ea55ee",
   "metadata": {},
   "outputs": [
    {
     "name": "stdout",
     "output_type": "stream",
     "text": [
      "Online Delivery by Price Range: Price range\n",
      "1    0.157741\n",
      "2    0.413106\n",
      "3    0.291903\n",
      "4    0.090444\n",
      "Name: Has Online delivery, dtype: float64\n",
      "\n",
      "Table Booking by Price Range: Price range\n",
      "1    0.157741\n",
      "2    0.413106\n",
      "3    0.291903\n",
      "4    0.090444\n",
      "Name: Has Online delivery, dtype: float64\n"
     ]
    }
   ],
   "source": [
    "# Determine if higher-priced restaurants are more likely to offer these services\n",
    "print(\"Online Delivery by Price Range:\",online_delivery_by_price )\n",
    "print(\"\\nTable Booking by Price Range:\",online_delivery_by_price )"
   ]
  },
  {
   "cell_type": "markdown",
   "id": "2e9ed0f1",
   "metadata": {},
   "source": [
    "# Insights:\n",
    "## 1. **Higher Price, More Services:**\n",
    "   ### - Higher-priced restaurants are more likely to offer online delivery and table booking services.\n",
    "## 2. **Proportion Trends:**\n",
    "  ### - The proportion of restaurants providing these services increases with the price range.\n",
    "\n",
    "# Findings:\n",
    "## 1. **Online Delivery:**\n",
    "   ### - Lower-priced restaurants offer online delivery less frequently.\n",
    "  ###  - As price range increases, the availability of online delivery also increases.\n",
    "## 2. **Table Booking:**\n",
    "###   - Lower-priced restaurants are less likely to provide table booking.\n",
    "###   - Higher-priced restaurants have a higher likelihood of offering table booking services, indicating a focus on enhanced customer experience."
   ]
  },
  {
   "cell_type": "markdown",
   "id": "e235ab38",
   "metadata": {},
   "source": [
    "## Recommendations:\n",
    "\n",
    "## 1. Lower-Priced Restaurants:\n",
    "### - Consider offering online delivery to attract a broader customer base, especially those who prefer the convenience of home delivery.\n",
    "### - Evaluate the feasibility of providing table booking services to enhance customer experience and potentially increase patronage.\n",
    "## 2.For Higher-Priced Restaurants:\n",
    "### - Continue to offer and possibly enhance online delivery and table booking services as they align with customer expectations for premium service.\n",
    "### - Explore additional service offerings that can further differentiate the restaurant in a competitive market\n",
    "<hr>"
   ]
  },
  {
   "cell_type": "markdown",
   "id": "d740b60b",
   "metadata": {},
   "source": [
    "# Conclusion of All Tasks\n",
    "## Task 1: Restaurant Reviews\n",
    "### Positive and Negative Keywords: \n",
    "         -The most common positive keywords include \"delicious,\" \"excellent,\" and \"friendly.\" & Common negative keywords include \"bad,\" \"poor,\" and \"disappointing.\"\n",
    "#### Review Length and Rating: \n",
    "         - The average length of reviews shows a correlation with ratings, where more detailed reviews tend to reflect higher satisfaction levels.\n",
    "## <hr> Task 2: Votes Analysis\n",
    "### Highest and Lowest Votes: \n",
    "          - Restaurants with the highest number of votes tend to be well-established and popular.\n",
    "          - Restaurants with the lowest number of votes are generally less known or new establishments.\n",
    "### Correlation Between Votes and Ratings:\n",
    "           - A positive correlation exists between the number of votes and the rating of a restaurant, indicating that higher- rated restaurants attract more customer engagement. <hr>\n",
    " \n",
    "## <hr> Task 3: Price Range vs. Online Delivery and Table Booking\n",
    "### Relationship Between Price Range and Services:\n",
    "            -Higher-priced restaurants are more likely to offer online delivery and table booking services.\n",
    "            -The availability of these services increases with the price range, suggesting that higher-priced restaurants focus more on providing a comprehensive customer experience."
   ]
  },
  {
   "cell_type": "code",
   "execution_count": null,
   "id": "26e0c28a",
   "metadata": {},
   "outputs": [],
   "source": []
  }
 ],
 "metadata": {
  "kernelspec": {
   "display_name": "Python 3 (ipykernel)",
   "language": "python",
   "name": "python3"
  },
  "language_info": {
   "codemirror_mode": {
    "name": "ipython",
    "version": 3
   },
   "file_extension": ".py",
   "mimetype": "text/x-python",
   "name": "python",
   "nbconvert_exporter": "python",
   "pygments_lexer": "ipython3",
   "version": "3.9.12"
  }
 },
 "nbformat": 4,
 "nbformat_minor": 5
}
